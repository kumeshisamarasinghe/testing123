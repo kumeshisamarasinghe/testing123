{
 "cells": [
  {
   "cell_type": "code",
   "execution_count": 9,
   "metadata": {},
   "outputs": [],
   "source": [
    "# Import Libraries\n",
    "import pandas as pd\n",
    "import numpy as np\n",
    "import matplotlib.pyplot as plt\n",
    "import seaborn as sns"
   ]
  },
  {
   "cell_type": "code",
   "execution_count": 10,
   "metadata": {},
   "outputs": [],
   "source": [
    "#Read the data set\n",
    "df = pd.read_csv('Preprocessed_data.csv')"
   ]
  },
  {
   "cell_type": "code",
   "execution_count": 11,
   "metadata": {},
   "outputs": [],
   "source": [
    "# Import train_test_split function\n",
    "\n",
    "from sklearn.model_selection import train_test_split\n",
    "\n",
    "#read the dataset into a data-frame.\n",
    "X=df[['price', 'sqfeet', 'beds', 'baths', 'smoking_allowed', 'wheelchair_access', 'electric_vehicle_charge', 'comes_furnished', 'laundry_options', 'parking_options', 'state']]  # Selected Features\n",
    "y=df['pets_allowed']  # Labels[1 | 0]\n",
    "\n",
    "# Split dataset into training set and test set\n",
    "X_train, X_test, y_train, y_test = train_test_split(X, y, test_size= 0.25,random_state = 1) # 70% training and 30% test"
   ]
  },
  {
   "cell_type": "code",
   "execution_count": 12,
   "metadata": {},
   "outputs": [],
   "source": [
    "#Build the Model using Multi-layer Perceptron classifier\n",
    "#MLPClassifier relies on an underlying Neural Network to perform the task of classification.\n",
    "\n",
    "#import MLP Classifier\n",
    "from sklearn.neural_network import MLPClassifier\n",
    "\n",
    "#assigning MLP classifier to a variable and declaring it\n",
    "nn_clf = MLPClassifier()\n",
    "\n",
    "#fitting the training data to the network\n",
    "nn_clf.fit(X_train , y_train)\n",
    "\n",
    "#predicting y for X_test\n",
    "y_pred=nn_clf.predict(X_test) #These are the predicted output values"
   ]
  },
  {
   "cell_type": "code",
   "execution_count": 13,
   "metadata": {},
   "outputs": [
    {
     "name": "stdout",
     "output_type": "stream",
     "text": [
      "Accuracy: 72.52083109823695\n"
     ]
    }
   ],
   "source": [
    "#Import scikit-learn metrics module for accuracy calculation\n",
    "from sklearn import metrics\n",
    "\n",
    "# Model Accuracy, how often is the classifier correct?\n",
    "print(\"Accuracy:\",metrics.accuracy_score(y_test, y_pred) * 100)"
   ]
  },
  {
   "cell_type": "code",
   "execution_count": 14,
   "metadata": {},
   "outputs": [
    {
     "data": {
      "image/png": "[encoded data removed]",
      "text/plain": [
       "<Figure size 432x432 with 2 Axes>"
      ]
     },
     "metadata": {
      "needs_background": "light"
     },
     "output_type": "display_data"
    }
   ],
   "source": [
    "\n",
    "#confusion matrix creation\n",
    "from sklearn.metrics import confusion_matrix\n",
    "conf_matrix=confusion_matrix(y_test,y_pred)\n",
    "\n",
    "#Plot the Confusion Matrix\n",
    "LABELS=['No','Yes']\n",
    "plt.figure(figsize=(6, 6))\n",
    "sns.heatmap(conf_matrix, xticklabels=LABELS,yticklabels=LABELS, annot=True, fmt='d');\n",
    "plt.title('Confusion matrix of Neural Network(Binary)',size = 16)\n",
    "plt.ylabel('Actual Class',size = 14)\n",
    "plt.xlabel('Predicted Class',size = 14)\n",
    "plt.show()"
   ]
  },
  {
   "cell_type": "code",
   "execution_count": 15,
   "metadata": {},
   "outputs": [
    {
     "data": {
      "text/html": [
       "<div>\n",
       "<style scoped>\n",
       "    .dataframe tbody tr th:only-of-type {\n",
       "        vertical-align: middle;\n",
       "    }\n",
       "\n",
       "    .dataframe tbody tr th {\n",
       "        vertical-align: top;\n",
       "    }\n",
       "\n",
       "    .dataframe thead th {\n",
       "        text-align: right;\n",
       "    }\n",
       "</style>\n",
       "<table border=\"1\" class=\"dataframe\">\n",
       "  <thead>\n",
       "    <tr style=\"text-align: right;\">\n",
       "      <th>Actual Class</th>\n",
       "      <th>Pet Allowed</th>\n",
       "      <th>Pet Not Allowed</th>\n",
       "      <th>Total Amount</th>\n",
       "    </tr>\n",
       "    <tr>\n",
       "      <th>Predicted Class</th>\n",
       "      <th></th>\n",
       "      <th></th>\n",
       "      <th></th>\n",
       "    </tr>\n",
       "  </thead>\n",
       "  <tbody>\n",
       "    <tr>\n",
       "      <th>Pet Allowed</th>\n",
       "      <td>17636</td>\n",
       "      <td>3724</td>\n",
       "      <td>21360</td>\n",
       "    </tr>\n",
       "    <tr>\n",
       "      <th>Pet Not Allowed</th>\n",
       "      <td>3960</td>\n",
       "      <td>2643</td>\n",
       "      <td>6603</td>\n",
       "    </tr>\n",
       "    <tr>\n",
       "      <th>Total Amount</th>\n",
       "      <td>21596</td>\n",
       "      <td>6367</td>\n",
       "      <td>27963</td>\n",
       "    </tr>\n",
       "  </tbody>\n",
       "</table>\n",
       "</div>"
      ],
      "text/plain": [
       "Actual Class     Pet Allowed  Pet Not Allowed  Total Amount\n",
       "Predicted Class                                            \n",
       "Pet Allowed            17636             3724         21360\n",
       "Pet Not Allowed         3960             2643          6603\n",
       "Total Amount           21596             6367         27963"
      ]
     },
     "execution_count": 15,
     "metadata": {},
     "output_type": "execute_result"
    }
   ],
   "source": [
    "#Array formatted confusion matrix\n",
    "\n",
    "Predicted = pd.Categorical(list(np.where(np.array(y_test) == 1, 'Pet Allowed','Pet Not Allowed')), categories = ['Pet Allowed','Pet Not Allowed'])\n",
    "Actual = pd.Categorical(list(np.where(np.array(y_pred) == 1, 'Pet Allowed','Pet Not Allowed')), categories = ['Pet Allowed','Pet Not Allowed'])\n",
    "\n",
    "pd.crosstab(Actual, Predicted, \n",
    "            rownames=['Predicted Class'], \n",
    "            colnames=['Actual Class'], margins=True, margins_name=\"Total Amount\")"
   ]
  }
 ],
 "metadata": {
  "kernelspec": {
   "display_name": "Python 3.9.12 ('base')",
   "language": "python",
   "name": "python3"
  },
  "language_info": {
   "codemirror_mode": {
    "name": "ipython",
    "version": 3
   },
   "file_extension": ".py",
   "mimetype": "text/x-python",
   "name": "python",
   "nbconvert_exporter": "python",
   "pygments_lexer": "ipython3",
   "version": "3.9.12"
  },
  "orig_nbformat": 4,
  "vscode": {
   "interpreter": {
    "hash": "f08154012ddadd8e950e6e9e035c7a7b32c136e7647e9b7c77e02eb723a8bedb"
   }
  }
 },
 "nbformat": 4,
 "nbformat_minor": 2
}
