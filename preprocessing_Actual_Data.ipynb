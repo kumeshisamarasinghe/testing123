{
 "cells": [
  {
   "cell_type": "code",
   "execution_count": 1,
   "metadata": {},
   "outputs": [],
   "source": [
    "#Import Libraries\n",
    "import pandas as pd\n",
    "import numpy as np\n",
    "from matplotlib import pyplot as plt\n",
    "import seaborn as sns\n",
    "from scipy import stats"
   ]
  },
  {
   "cell_type": "code",
   "execution_count": 13,
   "metadata": {},
   "outputs": [],
   "source": [
    "df = pd.read_csv(r'C:\\Users\\test\\Documents\\3rd year - 2nd sem\\FDM\\Mini Project\\housing - filtering.csv')"
   ]
  },
  {
   "cell_type": "code",
   "execution_count": 15,
   "metadata": {},
   "outputs": [
    {
     "name": "stdout",
     "output_type": "stream",
     "text": [
      "<class 'pandas.core.frame.DataFrame'>\n",
      "RangeIndex: 345202 entries, 0 to 345201\n",
      "Data columns (total 22 columns):\n",
      " #   Column                   Non-Null Count   Dtype  \n",
      "---  ------                   --------------   -----  \n",
      " 0   id                       345202 non-null  int64  \n",
      " 1   url                      345202 non-null  object \n",
      " 2   region                   345202 non-null  object \n",
      " 3   region_url               345202 non-null  object \n",
      " 4   price                    345202 non-null  int64  \n",
      " 5   type                     345202 non-null  object \n",
      " 6   sqfeet                   345202 non-null  int64  \n",
      " 7   beds                     345202 non-null  int64  \n",
      " 8   baths                    345202 non-null  float64\n",
      " 9   cats_allowed             345202 non-null  int64  \n",
      " 10  dogs_allowed             345202 non-null  int64  \n",
      " 11  smoking_allowed          345202 non-null  int64  \n",
      " 12  wheelchair_access        345202 non-null  int64  \n",
      " 13  electric_vehicle_charge  345202 non-null  int64  \n",
      " 14  comes_furnished          345202 non-null  int64  \n",
      " 15  laundry_options          275688 non-null  object \n",
      " 16  parking_options          214635 non-null  object \n",
      " 17  image_url                345202 non-null  object \n",
      " 18  description              345200 non-null  object \n",
      " 19  lat                      343760 non-null  float64\n",
      " 20  long                     343760 non-null  float64\n",
      " 21  state                    345202 non-null  object \n",
      "dtypes: float64(3), int64(10), object(9)\n",
      "memory usage: 57.9+ MB\n"
     ]
    }
   ],
   "source": [
    "#Data Set Information\n",
    "df.info()"
   ]
  },
  {
   "cell_type": "code",
   "execution_count": 17,
   "metadata": {},
   "outputs": [
    {
     "data": {
      "text/plain": [
       "id                              0\n",
       "url                             0\n",
       "region                          0\n",
       "region_url                      0\n",
       "price                           0\n",
       "type                            0\n",
       "sqfeet                          0\n",
       "beds                            0\n",
       "baths                           0\n",
       "cats_allowed                    0\n",
       "dogs_allowed                    0\n",
       "smoking_allowed                 0\n",
       "wheelchair_access               0\n",
       "electric_vehicle_charge         0\n",
       "comes_furnished                 0\n",
       "laundry_options             69514\n",
       "parking_options            130567\n",
       "image_url                       0\n",
       "description                     2\n",
       "lat                          1442\n",
       "long                         1442\n",
       "state                           0\n",
       "dtype: int64"
      ]
     },
     "execution_count": 17,
     "metadata": {},
     "output_type": "execute_result"
    }
   ],
   "source": [
    "#Check Null Values before removing null values in the Data Set(Before Removing Null Values)\n",
    "df.isnull().sum()"
   ]
  },
  {
   "cell_type": "code",
   "execution_count": 18,
   "metadata": {},
   "outputs": [],
   "source": [
    "#Removing all Null values \n",
    "df =df.dropna()"
   ]
  },
  {
   "cell_type": "code",
   "execution_count": 19,
   "metadata": {},
   "outputs": [
    {
     "data": {
      "text/plain": [
       "id                         0\n",
       "url                        0\n",
       "region                     0\n",
       "region_url                 0\n",
       "price                      0\n",
       "type                       0\n",
       "sqfeet                     0\n",
       "beds                       0\n",
       "baths                      0\n",
       "cats_allowed               0\n",
       "dogs_allowed               0\n",
       "smoking_allowed            0\n",
       "wheelchair_access          0\n",
       "electric_vehicle_charge    0\n",
       "comes_furnished            0\n",
       "laundry_options            0\n",
       "parking_options            0\n",
       "image_url                  0\n",
       "description                0\n",
       "lat                        0\n",
       "long                       0\n",
       "state                      0\n",
       "dtype: int64"
      ]
     },
     "execution_count": 19,
     "metadata": {},
     "output_type": "execute_result"
    }
   ],
   "source": [
    "#Check Null Values in the Data Set After Removing Null Values\n",
    "df.isnull().sum()"
   ]
  },
  {
   "cell_type": "code",
   "execution_count": 20,
   "metadata": {},
   "outputs": [
    {
     "data": {
      "text/plain": [
       "array(['ca', 'co', 'ct', 'dc', 'fl', 'de', 'ga', 'hi', 'id', 'il', 'in',\n",
       "       'ia', 'ks', 'ky', 'la', 'me', 'md', 'ma', 'mi', 'mn', 'ms', 'nc',\n",
       "       'mo', 'mt', 'ne', 'nv', 'nj', 'nm', 'ny', 'nh', 'oh', 'nd', 'ok',\n",
       "       'or', 'pa', 'ri', 'sc', 'tn', 'sd', 'tx', 'ut', 'va', 'vt', 'wa',\n",
       "       'wv', 'wi', 'wy', 'al', 'ak', 'az', 'ar'], dtype=object)"
      ]
     },
     "execution_count": 20,
     "metadata": {},
     "output_type": "execute_result"
    }
   ],
   "source": [
    "#State(CHECK UNIQUE VALUES)\n",
    "df.state.unique()"
   ]
  },
  {
   "cell_type": "code",
   "execution_count": 21,
   "metadata": {},
   "outputs": [
    {
     "data": {
      "text/plain": [
       "array(['carport', 'attached garage', 'off-street parking',\n",
       "       'detached garage', 'street parking', 'no parking', 'valet parking'],\n",
       "      dtype=object)"
      ]
     },
     "execution_count": 21,
     "metadata": {},
     "output_type": "execute_result"
    }
   ],
   "source": [
    "df.parking_options.unique()"
   ]
  },
  {
   "cell_type": "code",
   "execution_count": 22,
   "metadata": {},
   "outputs": [
    {
     "data": {
      "text/plain": [
       "array(['w/d in unit', 'w/d hookups', 'laundry on site', 'laundry in bldg',\n",
       "       'no laundry on site'], dtype=object)"
      ]
     },
     "execution_count": 22,
     "metadata": {},
     "output_type": "execute_result"
    }
   ],
   "source": [
    "df.laundry_options.unique()"
   ]
  },
  {
   "cell_type": "code",
   "execution_count": 23,
   "metadata": {},
   "outputs": [
    {
     "data": {
      "text/plain": [
       "array(['apartment', 'condo', 'duplex', 'townhouse'], dtype=object)"
      ]
     },
     "execution_count": 23,
     "metadata": {},
     "output_type": "execute_result"
    }
   ],
   "source": [
    "df.type.unique()"
   ]
  },
  {
   "cell_type": "code",
   "execution_count": 24,
   "metadata": {},
   "outputs": [
    {
     "data": {
      "text/plain": [
       "array(['reno / tahoe', 'sacramento', 'boulder', 'santa barbara',\n",
       "       'SF bay area', 'ventura county', 'san diego', 'san luis obispo',\n",
       "       'santa maria', 'siskiyou county', 'stockton', 'visalia-tulare',\n",
       "       'colorado springs', 'yuba-sutter', 'susanville', 'denver',\n",
       "       'fort collins / north CO', 'hartford', 'new haven', 'eastern CT',\n",
       "       'western slope', 'washington, DC', 'ft myers / SW florida',\n",
       "       'high rockies', 'jacksonville', 'daytona beach', 'pueblo',\n",
       "       'eastern CO', 'northwest CT', 'delaware', 'florida keys',\n",
       "       'gainesville', 'heartland florida', 'lakeland', 'north central FL',\n",
       "       'ocala', 'orlando', 'panama city', 'pensacola', 'south florida',\n",
       "       'okaloosa / walton', 'space coast', 'tallahassee',\n",
       "       'sarasota-bradenton', 'tampa bay area', 'atlanta', 'augusta',\n",
       "       'brunswick', 'athens', 'albany', 'treasure coast', 'st augustine',\n",
       "       'macon / warner robins', 'columbus', 'northwest GA',\n",
       "       'savannah / hinesville', 'hawaii', 'statesboro', 'boise',\n",
       "       'valdosta', \"spokane / coeur d'alene\", 'bloomington-normal',\n",
       "       'chicago', 'twin falls', 'decatur', 'quad cities, IA/IL',\n",
       "       'st louis, MO', 'springfield', 'east idaho', 'bloomington',\n",
       "       'evansville', 'lewiston / clarkston', 'pullman / moscow',\n",
       "       'fort wayne', 'indianapolis', 'south bend / michiana', 'ames',\n",
       "       'rockford', 'champaign urbana', 'southern illinois', 'la salle co',\n",
       "       'mattoon-charleston', 'peoria', 'muncie / anderson', 'western IL',\n",
       "       'lafayette / west lafayette', 'kokomo', 'richmond', 'terre haute',\n",
       "       'cedar rapids', 'des moines', 'omaha / council bluffs', 'lawrence',\n",
       "       'wichita', 'bowling green', 'lexington', 'eastern kentucky',\n",
       "       'iowa city', 'louisville', 'dubuque', 'baton rouge', 'manhattan',\n",
       "       'topeka', 'waterloo / cedar falls', 'monroe', 'mason city',\n",
       "       'new orleans', 'kansas city, MO', 'southeast IA', 'fort dodge',\n",
       "       'lake charles', 'southeast KS', 'sioux city', 'salina',\n",
       "       'northwest KS', 'southwest KS', 'lafayette', 'huntington-ashland',\n",
       "       'western KY', 'owensboro', 'central louisiana', 'houma',\n",
       "       'shreveport', 'maine', 'annapolis', 'baltimore', 'frederick',\n",
       "       'southern maryland', 'boston', 'south coast',\n",
       "       'western massachusetts', 'worcester / central MA', 'ann arbor',\n",
       "       'battle creek', 'detroit metro', 'holland', 'flint', 'kalamazoo',\n",
       "       'lansing', 'saginaw-midland-baycity', 'western maryland',\n",
       "       'cumberland valley', 'eastern shore', 'cape cod / islands',\n",
       "       'bemidji', 'grand rapids', 'central michigan', 'northern michigan',\n",
       "       'jackson', 'upper peninsula', 'muskegon', 'the thumb',\n",
       "       'port huron', 'southwest michigan', 'brainerd',\n",
       "       'duluth / superior', 'fargo / moorhead', 'minneapolis / st paul',\n",
       "       'st cloud', 'hattiesburg', 'asheville', 'rochester', 'mankato',\n",
       "       'gulfport / biloxi', 'columbia / jeff city', 'southwest MN',\n",
       "       'st joseph', 'boone', 'charlotte', 'missoula', 'eastern NC',\n",
       "       'fayetteville', 'greensboro', 'lake of the ozarks', 'meridian',\n",
       "       'joplin', 'north mississippi', 'southeast missouri',\n",
       "       'southwest MS', 'kansas city', 'kirksville', 'st louis',\n",
       "       'billings', 'bozeman', 'eastern montana', 'kalispell', 'helena',\n",
       "       'butte', 'great falls', 'hickory / lenoir',\n",
       "       'raleigh / durham / CH', 'outer banks', 'wilmington',\n",
       "       'winston-salem', 'lincoln', 'las vegas', 'north platte',\n",
       "       'north jersey', 'jersey shore', 'south jersey', 'central NJ',\n",
       "       'albuquerque', 'ithaca', 'syracuse', 'buffalo', 'watertown',\n",
       "       'grand island', 'santa fe / taos', 'new york city', 'binghamton',\n",
       "       'plattsburgh-adirondacks', 'farmington', 'scottsbluff / panhandle',\n",
       "       'utica-rome-oneida', 'new hampshire', 'elko', 'hudson valley',\n",
       "       'long island', 'catskills', 'chautauqua', 'elmira-corning',\n",
       "       'las cruces', 'clovis / portales', 'roswell / carlsbad',\n",
       "       'glens falls', 'finger lakes', 'potsdam-canton-massena', 'oneonta',\n",
       "       'twin tiers NY/PA', 'cincinnati', 'akron / canton', 'bismarck',\n",
       "       'grand forks', 'dayton / springfield', 'northern panhandle',\n",
       "       'north dakota', 'toledo', 'lima / findlay', 'ashtabula',\n",
       "       'chillicothe', 'oklahoma city', 'texoma', 'tulsa', 'lawton',\n",
       "       'bend', 'corvallis/albany', 'tuscarawas co', 'cleveland',\n",
       "       'east oregon', 'eugene', 'medford-ashland', 'oregon coast',\n",
       "       'portland', 'stillwater', 'parkersburg-marietta', 'mansfield',\n",
       "       'sandusky', 'youngstown', 'zanesville / cambridge',\n",
       "       'fort smith, AR', 'northwest OK', 'klamath falls', 'salem',\n",
       "       'roseburg', 'harrisburg', 'philadelphia', 'erie', 'pittsburgh',\n",
       "       'rhode island', 'altoona-johnstown', 'williamsport', 'lancaster',\n",
       "       'state college', 'charleston', 'lehigh valley', 'columbia',\n",
       "       'greenville / upstate', 'hilton head', 'myrtle beach',\n",
       "       'chattanooga', 'scranton / wilkes-barre', 'clarksville',\n",
       "       'meadville', 'reading', 'york', 'sioux falls / SE SD', 'poconos',\n",
       "       'cookeville', 'florence', 'south dakota', 'northeast SD',\n",
       "       'pierre / central SD', 'rapid city / west SD', 'knoxville',\n",
       "       'nashville', 'memphis', 'austin', 'lubbock', 'college station',\n",
       "       'dallas / fort worth', 'corpus christi', 'el paso', 'amarillo',\n",
       "       'houston', 'killeen / temple / ft hood', 'mcallen / edinburg',\n",
       "       'tri-cities', 'abilene', 'brownsville', 'beaumont / port arthur',\n",
       "       'galveston', 'deep east texas', 'del rio / eagle pass', 'laredo',\n",
       "       'odessa / midland', 'waco', 'san antonio', 'tyler / east TX',\n",
       "       'victoria', 'san angelo', 'san marcos', 'wichita falls',\n",
       "       'provo / orem', 'ogden-clearfield', 'salt lake city',\n",
       "       'charlottesville', 'lynchburg', 'norfolk / hampton roads',\n",
       "       'roanoke', 'winchester', 'southwest TX', 'texarkana', 'vermont',\n",
       "       'st george', 'fredericksburg', 'logan', 'danville',\n",
       "       'new river valley', 'harrisonburg', 'southwest VA', 'bellingham',\n",
       "       'kennewick-pasco-richland', 'moses lake', 'seattle-tacoma',\n",
       "       'olympic peninsula', 'morgantown', 'madison', 'milwaukee',\n",
       "       'wausau', 'skagit / island / SJI', 'wenatchee', 'kenosha-racine',\n",
       "       'green bay', 'yakima', 'la crosse', 'southern WV',\n",
       "       'eastern panhandle', 'appleton-oshkosh-FDL', 'eau claire',\n",
       "       'west virginia (old)', 'janesville', 'wyoming', 'sheboygan',\n",
       "       'northern WI', 'auburn', 'birmingham', 'gadsden-anniston',\n",
       "       'huntsville / decatur', 'mobile', 'dothan',\n",
       "       'florence / muscle shoals', 'tuscaloosa', 'anchorage / mat-su',\n",
       "       'phoenix', 'flagstaff / sedona', 'montgomery', 'little rock',\n",
       "       'prescott', 'yuma', 'bakersfield', 'fresno / madera',\n",
       "       'hanford-corcoran', 'inland empire', 'los angeles', 'fairbanks',\n",
       "       'southeast alaska', 'mohave county', 'kenai peninsula',\n",
       "       'fort smith', 'jonesboro', 'show low', 'tucson', 'sierra vista',\n",
       "       'humboldt county', 'chico', 'gold country', 'imperial county',\n",
       "       'modesto', 'orange county', 'mendocino county', 'merced',\n",
       "       'palm springs', 'monterey bay', 'redding'], dtype=object)"
      ]
     },
     "execution_count": 24,
     "metadata": {},
     "output_type": "execute_result"
    }
   ],
   "source": [
    "df.region.unique()"
   ]
  },
  {
   "cell_type": "code",
   "execution_count": 25,
   "metadata": {},
   "outputs": [],
   "source": [
    "from sklearn.preprocessing import LabelEncoder\n",
    "\n",
    "le=LabelEncoder()\n",
    "df['state']=le.fit(df['state']).transform(df['state'])\n",
    "df['parking_options']=le.fit(df['parking_options']).transform(df['parking_options'])\n",
    "df['laundry_options']=le.fit(df['laundry_options']).transform(df['laundry_options'])\n",
    "df['type']=le.fit(df['type']).transform(df['type'])"
   ]
  },
  {
   "cell_type": "code",
   "execution_count": 26,
   "metadata": {},
   "outputs": [],
   "source": [
    "df[\"pets_allowed\"] = df[\"cats_allowed\"] + df[\"dogs_allowed\"]"
   ]
  },
  {
   "cell_type": "code",
   "execution_count": 27,
   "metadata": {},
   "outputs": [
    {
     "name": "stderr",
     "output_type": "stream",
     "text": [
      "C:\\Users\\test\\AppData\\Local\\Temp\\ipykernel_12908\\1713055787.py:1: SettingWithCopyWarning: \n",
      "A value is trying to be set on a copy of a slice from a DataFrame\n",
      "\n",
      "See the caveats in the documentation: https://pandas.pydata.org/pandas-docs/stable/user_guide/indexing.html#returning-a-view-versus-a-copy\n",
      "  df.pets_allowed[df.pets_allowed == 2] = 1\n"
     ]
    }
   ],
   "source": [
    "df.pets_allowed[df.pets_allowed == 2] = 1"
   ]
  },
  {
   "cell_type": "code",
   "execution_count": 28,
   "metadata": {},
   "outputs": [
    {
     "data": {
      "text/plain": [
       "array([1, 0], dtype=int64)"
      ]
     },
     "execution_count": 28,
     "metadata": {},
     "output_type": "execute_result"
    }
   ],
   "source": [
    "df.pets_allowed.unique()"
   ]
  },
  {
   "cell_type": "code",
   "execution_count": 29,
   "metadata": {},
   "outputs": [],
   "source": [
    "df = df.drop(columns =[\"region_url\",\"region\",\"url\",\"lat\",\"long\",\"description\",\"image_url\",\"id\",\"cats_allowed\",\"dogs_allowed\"])"
   ]
  },
  {
   "cell_type": "code",
   "execution_count": 30,
   "metadata": {},
   "outputs": [
    {
     "name": "stdout",
     "output_type": "stream",
     "text": [
      "<class 'pandas.core.frame.DataFrame'>\n",
      "Int64Index: 208166 entries, 0 to 345201\n",
      "Data columns (total 13 columns):\n",
      " #   Column                   Non-Null Count   Dtype  \n",
      "---  ------                   --------------   -----  \n",
      " 0   price                    208166 non-null  int64  \n",
      " 1   type                     208166 non-null  int32  \n",
      " 2   sqfeet                   208166 non-null  int64  \n",
      " 3   beds                     208166 non-null  int64  \n",
      " 4   baths                    208166 non-null  float64\n",
      " 5   smoking_allowed          208166 non-null  int64  \n",
      " 6   wheelchair_access        208166 non-null  int64  \n",
      " 7   electric_vehicle_charge  208166 non-null  int64  \n",
      " 8   comes_furnished          208166 non-null  int64  \n",
      " 9   laundry_options          208166 non-null  int32  \n",
      " 10  parking_options          208166 non-null  int32  \n",
      " 11  state                    208166 non-null  int32  \n",
      " 12  pets_allowed             208166 non-null  int64  \n",
      "dtypes: float64(1), int32(4), int64(8)\n",
      "memory usage: 19.1 MB\n"
     ]
    }
   ],
   "source": [
    "df.info()"
   ]
  },
  {
   "cell_type": "code",
   "execution_count": 31,
   "metadata": {},
   "outputs": [
    {
     "data": {
      "text/plain": [
       "array([ 2. ,  1. ,  3. ,  1.5,  2.5,  0. ,  5. ,  3.5,  4. ,  4.5, 75. ,\n",
       "        5.5,  8. ,  6. ])"
      ]
     },
     "execution_count": 31,
     "metadata": {},
     "output_type": "execute_result"
    }
   ],
   "source": [
    "df.baths.unique()"
   ]
  },
  {
   "cell_type": "code",
   "execution_count": 32,
   "metadata": {},
   "outputs": [],
   "source": [
    "df[\"baths\"] = df[\"baths\"].astype(int)"
   ]
  },
  {
   "cell_type": "code",
   "execution_count": 33,
   "metadata": {},
   "outputs": [
    {
     "data": {
      "text/plain": [
       "<AxesSubplot: xlabel='state'>"
      ]
     },
     "execution_count": 33,
     "metadata": {},
     "output_type": "execute_result"
    },
    {
     "data": {
      "image/png": "[encoded data removed]",
      "text/plain": [
       "<Figure size 640x480 with 1 Axes>"
      ]
     },
     "metadata": {},
     "output_type": "display_data"
    }
   ],
   "source": [
    "sns.boxplot(x=df['state'])"
   ]
  },
  {
   "cell_type": "code",
   "execution_count": 34,
   "metadata": {},
   "outputs": [],
   "source": [
    "index_names = df[ (df['state'] >= 38) | (df['state'] <= 9)].index\n",
    "\n",
    "df.drop(index_names, inplace = True)"
   ]
  },
  {
   "cell_type": "code",
   "execution_count": 35,
   "metadata": {},
   "outputs": [
    {
     "data": {
      "text/plain": [
       "array([10, 11, 13, 14, 15, 12, 16, 17, 18, 21, 20, 19, 22, 23, 25, 27, 24,\n",
       "       26, 29, 33, 31, 32, 34, 30, 35, 28, 36, 37])"
      ]
     },
     "execution_count": 35,
     "metadata": {},
     "output_type": "execute_result"
    }
   ],
   "source": [
    "df.state.unique()"
   ]
  },
  {
   "cell_type": "code",
   "execution_count": 36,
   "metadata": {},
   "outputs": [],
   "source": [
    "beds = df[ (df['beds'] > 8 )].index\n",
    "df.drop(beds, inplace = True)"
   ]
  },
  {
   "cell_type": "code",
   "execution_count": 37,
   "metadata": {},
   "outputs": [],
   "source": [
    "df.drop(df.index[df['baths'] == 0.0], inplace = True)\n",
    "\n",
    "df.drop(df.index[df['beds'] == 0], inplace = True)\n",
    "\n",
    "# using np.ceil to round to\n",
    "df['baths'] = df['baths'].apply(np.ceil)"
   ]
  },
  {
   "cell_type": "code",
   "execution_count": 38,
   "metadata": {},
   "outputs": [
    {
     "name": "stdout",
     "output_type": "stream",
     "text": [
      "<class 'pandas.core.frame.DataFrame'>\n",
      "Int64Index: 98081 entries, 44835 to 222463\n",
      "Data columns (total 13 columns):\n",
      " #   Column                   Non-Null Count  Dtype  \n",
      "---  ------                   --------------  -----  \n",
      " 0   price                    98081 non-null  int64  \n",
      " 1   type                     98081 non-null  int32  \n",
      " 2   sqfeet                   98081 non-null  int64  \n",
      " 3   beds                     98081 non-null  int64  \n",
      " 4   baths                    98081 non-null  float64\n",
      " 5   smoking_allowed          98081 non-null  int64  \n",
      " 6   wheelchair_access        98081 non-null  int64  \n",
      " 7   electric_vehicle_charge  98081 non-null  int64  \n",
      " 8   comes_furnished          98081 non-null  int64  \n",
      " 9   laundry_options          98081 non-null  int32  \n",
      " 10  parking_options          98081 non-null  int32  \n",
      " 11  state                    98081 non-null  int32  \n",
      " 12  pets_allowed             98081 non-null  int64  \n",
      "dtypes: float64(1), int32(4), int64(8)\n",
      "memory usage: 9.0 MB\n"
     ]
    }
   ],
   "source": [
    "df.info()"
   ]
  },
  {
   "cell_type": "code",
   "execution_count": 40,
   "metadata": {},
   "outputs": [],
   "source": [
    "df.to_csv('Preprocessing.csv',index=False) "
   ]
  }
 ],
 "metadata": {
  "kernelspec": {
   "display_name": "Python 3.10.7 64-bit",
   "language": "python",
   "name": "python3"
  },
  "language_info": {
   "codemirror_mode": {
    "name": "ipython",
    "version": 3
   },
   "file_extension": ".py",
   "mimetype": "text/x-python",
   "name": "python",
   "nbconvert_exporter": "python",
   "pygments_lexer": "ipython3",
   "version": "3.10.7"
  },
  "orig_nbformat": 4,
  "vscode": {
   "interpreter": {
    "hash": "b7377f19eab4b8c2e19b4d5b732c435591579d0f123dd21b146d33dfd161e508"
   }
  }
 },
 "nbformat": 4,
 "nbformat_minor": 2
}
